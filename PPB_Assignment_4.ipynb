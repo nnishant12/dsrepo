{
 "cells": [
  {
   "cell_type": "code",
   "execution_count": 1,
   "metadata": {},
   "outputs": [
    {
     "name": "stdout",
     "output_type": "stream",
     "text": [
      "6\n",
      "Fact : 720\n"
     ]
    }
   ],
   "source": [
    "# 1. Write a Python Program to Find the Factorial of a Number\n",
    "n= int(input())\n",
    "p=1\n",
    "for i in range(n):\n",
    "    p=p*(i+1)\n",
    "print(\"Fact :\", p)"
   ]
  },
  {
   "cell_type": "code",
   "execution_count": 2,
   "metadata": {},
   "outputs": [
    {
     "name": "stdout",
     "output_type": "stream",
     "text": [
      "5\n",
      "5  x  1  =  5\n",
      "5  x  2  =  10\n",
      "5  x  3  =  15\n",
      "5  x  4  =  20\n",
      "5  x  5  =  25\n",
      "5  x  6  =  30\n",
      "5  x  7  =  35\n",
      "5  x  8  =  40\n",
      "5  x  9  =  45\n",
      "5  x  10  =  50\n"
     ]
    }
   ],
   "source": [
    "# 2. Write a Python Program to Display the multiplication Table\n",
    "n= int(input())\n",
    "\n",
    "for i in range(1,11):\n",
    "    print(n,\" x \",i,\" = \", n*i)"
   ]
  },
  {
   "cell_type": "code",
   "execution_count": 3,
   "metadata": {},
   "outputs": [
    {
     "name": "stdout",
     "output_type": "stream",
     "text": [
      "No. of terms :10\n",
      "1\n",
      "1\n",
      "2\n",
      "3\n",
      "5\n",
      "8\n",
      "13\n",
      "21\n",
      "34\n",
      "55\n"
     ]
    }
   ],
   "source": [
    "# 3. Write a Python Program to Print the Fibonacci sequence\n",
    "n= int(input(\"No. of terms :\"))\n",
    "a=1\n",
    "b=1\n",
    "if n==1:\n",
    "    print(a)\n",
    "elif n==2:\n",
    "    print(a)\n",
    "    print(b)\n",
    "else:\n",
    "    print(a)\n",
    "    print(b)\n",
    "    for i in range(2,n):\n",
    "        c=a+b\n",
    "        print(c)\n",
    "        a=b\n",
    "        b=c"
   ]
  },
  {
   "cell_type": "code",
   "execution_count": 5,
   "metadata": {},
   "outputs": [
    {
     "name": "stdout",
     "output_type": "stream",
     "text": [
      "153\n",
      "Armstrong Number\n"
     ]
    }
   ],
   "source": [
    "# 4. Write a Python Program to Check Armstrong Number\n",
    "n= int(input())\n",
    "s=0\n",
    "t=n\n",
    "\n",
    "while t>0:\n",
    "    d=t%10\n",
    "    s=s+ d*d*d\n",
    "    t=t//10\n",
    "\n",
    "if s==n:\n",
    "    print(\"Armstrong Number\")\n",
    "else:\n",
    "    print(\"Not an Armstrong Number\")"
   ]
  },
  {
   "cell_type": "code",
   "execution_count": 6,
   "metadata": {},
   "outputs": [
    {
     "name": "stdout",
     "output_type": "stream",
     "text": [
      "Enter interval :\n",
      "1\n",
      "1000\n",
      "1 is an Armstrong Number\n",
      "153 is an Armstrong Number\n",
      "370 is an Armstrong Number\n",
      "371 is an Armstrong Number\n",
      "407 is an Armstrong Number\n"
     ]
    }
   ],
   "source": [
    "# 5. Write a Python Program to Find Armstrong Number in an Interval\n",
    "print(\"Enter interval :\")\n",
    "a= int(input())\n",
    "b= int(input())\n",
    "c=0\n",
    "for n in range (a,b):\n",
    "    s=0\n",
    "    t=n\n",
    "    while t>0:\n",
    "        d=t%10\n",
    "        s=s+ d*d*d\n",
    "        t=t//10\n",
    "    if s==n:\n",
    "        print(n,\"is an Armstrong Number\")\n",
    "        c+=1\n",
    "\n",
    "if c==0:\n",
    "    print(\"No Armstrong Number in this range\")"
   ]
  },
  {
   "cell_type": "code",
   "execution_count": 7,
   "metadata": {},
   "outputs": [
    {
     "name": "stdout",
     "output_type": "stream",
     "text": [
      "No. of terms :10\n",
      "55\n"
     ]
    }
   ],
   "source": [
    "# 6. Write a Python Program to Find the Sum of Natural Numbers\n",
    "n= int(input(\"No. of terms :\"))\n",
    "s=0\n",
    "for i in range(n+1):\n",
    "    s=s+i\n",
    "print(s)"
   ]
  },
  {
   "cell_type": "code",
   "execution_count": null,
   "metadata": {},
   "outputs": [],
   "source": []
  }
 ],
 "metadata": {
  "kernelspec": {
   "display_name": "Python 3",
   "language": "python",
   "name": "python3"
  },
  "language_info": {
   "codemirror_mode": {
    "name": "ipython",
    "version": 3
   },
   "file_extension": ".py",
   "mimetype": "text/x-python",
   "name": "python",
   "nbconvert_exporter": "python",
   "pygments_lexer": "ipython3",
   "version": "3.8.5"
  }
 },
 "nbformat": 4,
 "nbformat_minor": 4
}
