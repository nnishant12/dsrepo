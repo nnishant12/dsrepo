{
 "cells": [
  {
   "cell_type": "markdown",
   "metadata": {},
   "source": [
    "QUESTION 1"
   ]
  },
  {
   "cell_type": "code",
   "execution_count": 1,
   "metadata": {},
   "outputs": [],
   "source": [
    "def sym(l):\n",
    "    s=0\n",
    "    ref = {\"#\" : 5, \"O\":3, \"X\":1, \"!\":-1, \"!!\":-3, \"!!!\":-5}\n",
    "    print(ref)\n",
    "    for i in l:\n",
    "        for j in i:\n",
    "            s=s+ref[j]\n",
    "    if s<0:\n",
    "        return 0\n",
    "    else:\n",
    "        return s"
   ]
  },
  {
   "cell_type": "code",
   "execution_count": 2,
   "metadata": {},
   "outputs": [
    {
     "name": "stdout",
     "output_type": "stream",
     "text": [
      "Enter number of lists : 2\n",
      "Enter number of elements in a list : 2\n",
      "#\n",
      "!\n",
      "!!\n",
      "X\n",
      "list : [['#', '!'], ['!!', 'X']]\n",
      "{'#': 5, 'O': 3, 'X': 1, '!': -1, '!!': -3, '!!!': -5}\n",
      "2\n"
     ]
    }
   ],
   "source": [
    "lst = [ ] \n",
    "\n",
    "n = int(input(\"Enter number of lists : \"))\n",
    "m =  int(input(\"Enter number of elements in a list : \"))\n",
    "  \n",
    "for i in range(0, n):\n",
    "    t =[]\n",
    "    for j in range(0,m):\n",
    "        t.append(input())\n",
    "    lst.append(t)\n",
    "\n",
    "print (\"list :\",lst)\n",
    "sum = sym(lst)\n",
    "print(sum)"
   ]
  },
  {
   "cell_type": "markdown",
   "metadata": {},
   "source": [
    "QUESTION 2"
   ]
  },
  {
   "cell_type": "code",
   "execution_count": 3,
   "metadata": {},
   "outputs": [],
   "source": [
    "def com(*val):\n",
    "    p=1\n",
    "    for i in val:\n",
    "        p=p*i\n",
    "    return p"
   ]
  },
  {
   "cell_type": "code",
   "execution_count": 6,
   "metadata": {},
   "outputs": [
    {
     "name": "stdout",
     "output_type": "stream",
     "text": [
      "42\n",
      "72\n",
      "120\n"
     ]
    }
   ],
   "source": [
    "print(com(7,2,3))\n",
    "print(com(4,3,6))\n",
    "print(com(2,3,4,5))"
   ]
  },
  {
   "cell_type": "markdown",
   "metadata": {},
   "source": [
    "QUESTION 3"
   ]
  },
  {
   "cell_type": "code",
   "execution_count": 1,
   "metadata": {},
   "outputs": [],
   "source": [
    "morse = { 'A':'.-', 'B':'-...', 'C':'-.-.', 'D':'-..', 'E':'.', 'F':'..-.', 'G':'--.', 'H':'....','I':'..', 'J':'.---', 'K':'-.-',\n",
    "                    'L':'.-..', 'M':'--', 'N':'-.', 'O':'---', 'P':'.--.', 'Q':'--.-', 'R':'.-.', 'S':'...', 'T':'-',\n",
    "                    'U':'..-', 'V':'...-', 'W':'.--', 'X':'-..-', 'Y':'-.--', 'Z':'--..', '1':'.----', '2':'..---', '3':'...--',\n",
    "                    '4':'....-', '5':'.....', '6':'-....', '7':'--...', '8':'---..', '9':'----.', '0':'-----', ', ':'--..--', '.':'.-.-.-',\n",
    "                    '?':'..--..', '/':'-..-.', '-':'-....-', '(':'-.--.', ')':'-.--.-',\" \":\" \"}\n",
    "\n",
    "def code(s):\n",
    "    l=''\n",
    "    for i in s:\n",
    "        l=l+morse[i]\n",
    "    return l"
   ]
  },
  {
   "cell_type": "code",
   "execution_count": 2,
   "metadata": {},
   "outputs": [
    {
     "name": "stdout",
     "output_type": "stream",
     "text": [
      "HELLO WORLD\n",
      "......-...-..--- .-----.-..-..-..\n"
     ]
    }
   ],
   "source": [
    "s= input()\n",
    "d=code(s)\n",
    "print(d)"
   ]
  },
  {
   "cell_type": "markdown",
   "metadata": {},
   "source": [
    "QUESTION 4"
   ]
  },
  {
   "cell_type": "code",
   "execution_count": 3,
   "metadata": {},
   "outputs": [],
   "source": [
    "import math\n",
    "def prime(n):\n",
    "    t=int(math.sqrt(n))\n",
    "    \n",
    "    for i in range (2,t):\n",
    "        if n% i == 0:\n",
    "            return False\n",
    "    return True"
   ]
  },
  {
   "cell_type": "code",
   "execution_count": 4,
   "metadata": {},
   "outputs": [
    {
     "name": "stdout",
     "output_type": "stream",
     "text": [
      "2147483647\n"
     ]
    },
    {
     "data": {
      "text/plain": [
       "True"
      ]
     },
     "execution_count": 4,
     "metadata": {},
     "output_type": "execute_result"
    }
   ],
   "source": [
    "n=int(input())\n",
    "b=prime (n)\n",
    "b"
   ]
  },
  {
   "cell_type": "markdown",
   "metadata": {},
   "source": [
    "QUESTION 5"
   ]
  },
  {
   "cell_type": "code",
   "execution_count": 5,
   "metadata": {},
   "outputs": [],
   "source": [
    "def alpha(s):\n",
    "    bit=''\n",
    "    l=[]\n",
    "    for i in s:\n",
    "        if ord(i)%2 ==0:\n",
    "            bit= bit + '0'\n",
    "        else:\n",
    "            bit = bit+ '1'\n",
    "    print(\"The bits are : \",bit)\n",
    "   \n",
    "    for i in bit:\n",
    "        if i=='1':\n",
    "            l.append(True)\n",
    "        else:\n",
    "            l.append(False)\n",
    "    return l"
   ]
  },
  {
   "cell_type": "code",
   "execution_count": 7,
   "metadata": {},
   "outputs": [
    {
     "name": "stdout",
     "output_type": "stream",
     "text": [
      "DataScience\n",
      "The bits are :  01011111011\n",
      "The boolean list is : [False, True, False, True, True, True, True, True, False, True, True]\n"
     ]
    }
   ],
   "source": [
    "s=input()\n",
    "l= alpha (s)\n",
    "print(\"The boolean list is :\",l)"
   ]
  },
  {
   "cell_type": "code",
   "execution_count": null,
   "metadata": {},
   "outputs": [],
   "source": []
  }
 ],
 "metadata": {
  "kernelspec": {
   "display_name": "Python 3",
   "language": "python",
   "name": "python3"
  },
  "language_info": {
   "codemirror_mode": {
    "name": "ipython",
    "version": 3
   },
   "file_extension": ".py",
   "mimetype": "text/x-python",
   "name": "python",
   "nbconvert_exporter": "python",
   "pygments_lexer": "ipython3",
   "version": "3.8.5"
  }
 },
 "nbformat": 4,
 "nbformat_minor": 4
}
