{
 "cells": [
  {
   "cell_type": "markdown",
   "metadata": {},
   "source": [
    "QUESTION 1"
   ]
  },
  {
   "cell_type": "code",
   "execution_count": 1,
   "metadata": {},
   "outputs": [],
   "source": [
    "import re\n",
    "def func(s):\n",
    "    n=re.findall('\\d+', s)\n",
    "    op = re.findall(\"[+]|[-]|[*]|[//]\", s)\n",
    "    \n",
    "    if op[0]=='+':\n",
    "        return int(n[0]) + int(n[1])\n",
    "    elif op[0] =='*':\n",
    "        return int(n[0]) * int(n[1])\n",
    "    elif op[0] =='-':\n",
    "        return int(n[0]) - int(n[1])\n",
    "    else:\n",
    "        return int(n[0]) // int(n[1])"
   ]
  },
  {
   "cell_type": "code",
   "execution_count": 2,
   "metadata": {},
   "outputs": [
    {
     "name": "stdout",
     "output_type": "stream",
     "text": [
      "Enter expression :10*20\n",
      "The result is :  200\n"
     ]
    }
   ],
   "source": [
    "s = input(\"Enter expression :\")\n",
    "n=func(s)\n",
    "print(\"The result is : \",n)"
   ]
  },
  {
   "cell_type": "markdown",
   "metadata": {},
   "source": [
    "QUESTION 2"
   ]
  },
  {
   "cell_type": "code",
   "execution_count": 3,
   "metadata": {},
   "outputs": [],
   "source": [
    "import math\n",
    "def peri(l):\n",
    "    p = math.sqrt((l[0][0]-l[1][0]) ** 2 + (l[0][1]-l[1][1]) ** 2) +  math.sqrt((l[0][0]-l[2][0]) ** 2 + (l[0][1]-l[2][1]) ** 2) +  math.sqrt((l[1][0]-l[2][0]) ** 2 + (l[1][1]-l[2][1]) ** 2)\n",
    "    return p"
   ]
  },
  {
   "cell_type": "code",
   "execution_count": 4,
   "metadata": {},
   "outputs": [
    {
     "name": "stdout",
     "output_type": "stream",
     "text": [
      "Enter the co=ordinates :\n",
      "15\n",
      "7\n",
      "5\n",
      "22\n",
      "11\n",
      "1\n",
      "[[15, 7], [5, 22], [11, 1]]\n",
      "Perimeter is :  47.07918859608948\n"
     ]
    }
   ],
   "source": [
    "print(\"Enter the co=ordinates :\")\n",
    "l=[]\n",
    "for i in range(3):\n",
    "    a=[]\n",
    "    for j in range(2):\n",
    "        a.append(int(input()))\n",
    "    l.append(a)\n",
    "print(l)\n",
    "\n",
    "p=peri(l)\n",
    "print(\"Perimeter is : \",p)"
   ]
  },
  {
   "cell_type": "markdown",
   "metadata": {},
   "source": [
    "QUESTION 3"
   ]
  },
  {
   "cell_type": "code",
   "execution_count": 5,
   "metadata": {},
   "outputs": [],
   "source": [
    "def height(l):\n",
    "    maxx=0\n",
    "    c=0\n",
    "    for j in range(len(l)):\n",
    "        c=0\n",
    "        for i in range(len(l)):\n",
    "            if l[i][j]==1:\n",
    "                c=c+1\n",
    "        if (maxx<c):\n",
    "            maxx=c\n",
    "    return maxx"
   ]
  },
  {
   "cell_type": "code",
   "execution_count": 6,
   "metadata": {},
   "outputs": [
    {
     "name": "stdout",
     "output_type": "stream",
     "text": [
      "Enter no. of co-ordinates :4\n",
      "0\n",
      "1\n",
      "0\n",
      "0\n",
      "1\n",
      "1\n",
      "0\n",
      "0\n",
      "1\n",
      "1\n",
      "1\n",
      "0\n",
      "1\n",
      "1\n",
      "1\n",
      "1\n",
      "[[0, 1, 0, 0], [1, 1, 0, 0], [1, 1, 1, 0], [1, 1, 1, 1]]\n",
      "Max height is : 4\n"
     ]
    }
   ],
   "source": [
    "n=int(input((\"Enter no. of co-ordinates :\")))\n",
    "l=[]\n",
    "for i in range(n):\n",
    "    a=[]\n",
    "    for j in range(n):\n",
    "        a.append(int(input()))\n",
    "    l.append(a)\n",
    "print(l)\n",
    "h = height(l)\n",
    "print(\"Max height is :\",h)"
   ]
  },
  {
   "cell_type": "markdown",
   "metadata": {},
   "source": [
    "QUESTION 4"
   ]
  },
  {
   "cell_type": "code",
   "execution_count": 1,
   "metadata": {},
   "outputs": [],
   "source": [
    "def bonus(d):\n",
    "    if d<=32:\n",
    "        return 0\n",
    "    elif d<=40:\n",
    "        return (d-32)*325\n",
    "    elif d<48:\n",
    "        return 8*325+ (d-40)*550\n",
    "    else:\n",
    "        return 8*(325+550) + (d-48)*600"
   ]
  },
  {
   "cell_type": "code",
   "execution_count": 2,
   "metadata": {},
   "outputs": [
    {
     "name": "stdout",
     "output_type": "stream",
     "text": [
      "Enter no. of days : 50\n",
      "The bonus is :  8200\n"
     ]
    }
   ],
   "source": [
    "n=int(input(\"Enter no. of days : \"))\n",
    "print(\"The bonus is : \", bonus(n))"
   ]
  },
  {
   "cell_type": "markdown",
   "metadata": {},
   "source": [
    "QUESTION 5"
   ]
  },
  {
   "cell_type": "code",
   "execution_count": 3,
   "metadata": {},
   "outputs": [],
   "source": [
    "import math\n",
    "def disarium(n):\n",
    "    t=u=n\n",
    "    r=s=c=0\n",
    "    while t>0:\n",
    "        t=t//10\n",
    "        c=c+1\n",
    "    \n",
    "    while u>0:\n",
    "        r=u%10\n",
    "        s=s+pow(r,c)\n",
    "        u=u//10\n",
    "        c=c-1\n",
    "    print(s)   \n",
    "    return s"
   ]
  },
  {
   "cell_type": "code",
   "execution_count": 4,
   "metadata": {},
   "outputs": [
    {
     "name": "stdout",
     "output_type": "stream",
     "text": [
      "Enter no. :518\n",
      "518\n",
      "True\n"
     ]
    }
   ],
   "source": [
    "n=int(input(\"Enter no. :\"))\n",
    "p=disarium(n)\n",
    "if n==p:\n",
    "    print(True)\n",
    "else:\n",
    "    print(False)"
   ]
  },
  {
   "cell_type": "code",
   "execution_count": null,
   "metadata": {},
   "outputs": [],
   "source": []
  }
 ],
 "metadata": {
  "kernelspec": {
   "display_name": "Python 3",
   "language": "python",
   "name": "python3"
  },
  "language_info": {
   "codemirror_mode": {
    "name": "ipython",
    "version": 3
   },
   "file_extension": ".py",
   "mimetype": "text/x-python",
   "name": "python",
   "nbconvert_exporter": "python",
   "pygments_lexer": "ipython3",
   "version": "3.8.5"
  }
 },
 "nbformat": 4,
 "nbformat_minor": 4
}
