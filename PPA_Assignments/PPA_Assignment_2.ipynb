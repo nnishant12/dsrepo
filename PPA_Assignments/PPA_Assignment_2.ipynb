{
 "cells": [
  {
   "cell_type": "markdown",
   "metadata": {},
   "source": [
    "QUESTION 1"
   ]
  },
  {
   "cell_type": "code",
   "execution_count": 1,
   "metadata": {},
   "outputs": [],
   "source": [
    "def dots(n):\n",
    "\n",
    "    return (5 * n * n - 5 * n + 2) // 2  ## Formula to calculate nth Centered pentagonal number."
   ]
  },
  {
   "cell_type": "code",
   "execution_count": 2,
   "metadata": {},
   "outputs": [
    {
     "name": "stdout",
     "output_type": "stream",
     "text": [
      "8\n",
      "No. of dots are :  141\n"
     ]
    }
   ],
   "source": [
    "n = int(input())\n",
    "print(\"No. of dots are : \",dots(n))"
   ]
  },
  {
   "cell_type": "markdown",
   "metadata": {},
   "source": [
    "QUESTION 2"
   ]
  },
  {
   "cell_type": "code",
   "execution_count": 3,
   "metadata": {},
   "outputs": [],
   "source": [
    "d= { 'a': '0', 'e':'1', 'i':'2', 'o':'2', 'u':'3'}\n",
    "\n",
    "def rev(s):\n",
    "    en=''\n",
    "    r= s[::-1]\n",
    "    print(\"Reverse string is : \",r)\n",
    "    for i in r:\n",
    "        if i in d:\n",
    "            en= en+d[i]\n",
    "        else:\n",
    "            en=en+i\n",
    "    en=en+'aca'\n",
    "    print(\"The encrypted message is : \", en)"
   ]
  },
  {
   "cell_type": "code",
   "execution_count": 4,
   "metadata": {},
   "outputs": [
    {
     "name": "stdout",
     "output_type": "stream",
     "text": [
      "Enter string : apple\n",
      "Reverse string is :  elppa\n",
      "The encrypted message is :  1lpp0aca\n"
     ]
    }
   ],
   "source": [
    "s=input(\"Enter string : \")\n",
    "rev(s)"
   ]
  },
  {
   "cell_type": "markdown",
   "metadata": {},
   "source": [
    "QUESTION 3"
   ]
  },
  {
   "cell_type": "code",
   "execution_count": 5,
   "metadata": {},
   "outputs": [
    {
     "name": "stdout",
     "output_type": "stream",
     "text": [
      "Year : 2017\n",
      "Month : 10\n"
     ]
    },
    {
     "data": {
      "text/plain": [
       "True"
      ]
     },
     "execution_count": 5,
     "metadata": {},
     "output_type": "execute_result"
    }
   ],
   "source": [
    "import datetime as dt\n",
    "\n",
    "y= int(input(\"Year : \"))\n",
    "m= int(input(\"Month : \"))\n",
    "\n",
    "b= dt.date(y,m,13).strftime(\"%A\") ==\"Friday\"\n",
    "b"
   ]
  },
  {
   "cell_type": "markdown",
   "metadata": {},
   "source": [
    "QUESTION 4"
   ]
  },
  {
   "cell_type": "code",
   "execution_count": 6,
   "metadata": {},
   "outputs": [
    {
     "name": "stdout",
     "output_type": "stream",
     "text": [
      "Enter no. of elements : 5\n",
      "good cookie\n",
      "bad cookie\n",
      "bad cookie\n",
      "good cookie\n",
      "bad cookie\n",
      "Bad cookies produced are :  3\n"
     ]
    }
   ],
   "source": [
    "import re\n",
    "\n",
    "l=[]\n",
    "n=int(input(\"Enter no. of elements : \"))\n",
    "for i in range (n):\n",
    "    a=input()\n",
    "    l.append(a)\n",
    "    \n",
    "b=len(re.findall('bad cookie',','.join(l)))\n",
    "\n",
    "print(\"Bad cookies produced are : \", b)"
   ]
  },
  {
   "cell_type": "markdown",
   "metadata": {},
   "source": [
    "QUESTION 5"
   ]
  },
  {
   "cell_type": "code",
   "execution_count": 1,
   "metadata": {},
   "outputs": [
    {
     "name": "stdout",
     "output_type": "stream",
     "text": [
      "Enter no. of elements : 6\n",
      "cat\n",
      "dog\n",
      "dog\n",
      "bird\n",
      "cat\n",
      "fish\n",
      "The list is :  ['cat', 'dog', 'dog', 'bird', 'cat', 'fish']\n",
      "The dict is :  {'cat': 2, 'dog': 2, 'bird': 1, 'fish': 1}\n",
      "The result is :  ['cats', 'dogs', 'bird', 'fish']\n"
     ]
    }
   ],
   "source": [
    "l=[]\n",
    "res=[]\n",
    "\n",
    "n=int(input(\"Enter no. of elements : \"))\n",
    "\n",
    "for i in range(n):\n",
    "    a=input()\n",
    "    l.append(a)\n",
    "print(\"The list is : \",l)\n",
    "\n",
    "d={i:l.count(i) for i in l}\n",
    "\n",
    "print (\"The dict is : \",d)\n",
    "\n",
    "for i in d:\n",
    "    if d[i]>1:\n",
    "        res.append(i+'s')\n",
    "    else:\n",
    "        res.append(i)\n",
    "print(\"The result is : \",res)"
   ]
  },
  {
   "cell_type": "code",
   "execution_count": null,
   "metadata": {},
   "outputs": [],
   "source": []
  }
 ],
 "metadata": {
  "kernelspec": {
   "display_name": "Python 3",
   "language": "python",
   "name": "python3"
  },
  "language_info": {
   "codemirror_mode": {
    "name": "ipython",
    "version": 3
   },
   "file_extension": ".py",
   "mimetype": "text/x-python",
   "name": "python",
   "nbconvert_exporter": "python",
   "pygments_lexer": "ipython3",
   "version": "3.8.5"
  }
 },
 "nbformat": 4,
 "nbformat_minor": 4
}
