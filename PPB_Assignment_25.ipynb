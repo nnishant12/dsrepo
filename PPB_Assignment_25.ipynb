{
 "cells": [
  {
   "cell_type": "markdown",
   "metadata": {},
   "source": [
    "1. Create a function that takes three integer arguments (a, b, c) and returns the amount of\n",
    "integers which are of equal value."
   ]
  },
  {
   "cell_type": "code",
   "execution_count": 1,
   "metadata": {},
   "outputs": [],
   "source": [
    "def equal(a,b,c):\n",
    "    if a==b and b==c:\n",
    "        print(3)\n",
    "    elif a==b or b==c or c==a:\n",
    "        print(2)\n",
    "    else:\n",
    "        print(0)"
   ]
  },
  {
   "cell_type": "code",
   "execution_count": 2,
   "metadata": {},
   "outputs": [
    {
     "name": "stdout",
     "output_type": "stream",
     "text": [
      "2\n",
      "3\n",
      "0\n"
     ]
    }
   ],
   "source": [
    "equal(3,4,3)\n",
    "equal(1,1,1)\n",
    "equal(1,4,3)"
   ]
  },
  {
   "cell_type": "markdown",
   "metadata": {},
   "source": [
    "2. Write a function that converts a dictionary into a list of keys-values tuples."
   ]
  },
  {
   "cell_type": "code",
   "execution_count": 3,
   "metadata": {},
   "outputs": [
    {
     "data": {
      "text/plain": [
       "[('a', 1), ('c', 3), ('d', 4), ('e', 5), ('z', 2)]"
      ]
     },
     "execution_count": 3,
     "metadata": {},
     "output_type": "execute_result"
    }
   ],
   "source": [
    "d ={\"a\":1, \"z\":2, \"c\":3, \"d\":4, \"e\":5}\n",
    "l =sorted(list(d.items()))\n",
    "l"
   ]
  },
  {
   "cell_type": "markdown",
   "metadata": {},
   "source": [
    "3. Write a function that creates a dictionary with each (key, value) pair being the (lower case, upper case) versions of a letter, respectively."
   ]
  },
  {
   "cell_type": "code",
   "execution_count": 1,
   "metadata": {},
   "outputs": [],
   "source": [
    "def cas(l):\n",
    "    l2= [x.upper() for x in l]\n",
    "    d= dict(zip(l,l2))\n",
    "    return d"
   ]
  },
  {
   "cell_type": "code",
   "execution_count": 2,
   "metadata": {},
   "outputs": [
    {
     "name": "stdout",
     "output_type": "stream",
     "text": [
      "Enter number of terms : 5\n",
      "t\n",
      "r\n",
      "e\n",
      "f\n",
      "b\n",
      "List is :  ['t', 'r', 'e', 'f', 'b']\n",
      "Dictioniary is :  {'t': 'T', 'r': 'R', 'e': 'E', 'f': 'F', 'b': 'B'}\n"
     ]
    }
   ],
   "source": [
    "l =[]\n",
    "n = int(input(\"Enter number of terms : \"))\n",
    "\n",
    "for i in range(0, n):\n",
    "    el = str(input())\n",
    "    l.append(el)\n",
    "print(\"List is : \",l)\n",
    "\n",
    "p=cas(l)\n",
    "print(\"Dictioniary is : \",p)"
   ]
  },
  {
   "cell_type": "markdown",
   "metadata": {},
   "source": [
    "4. Write a function, that replaces all vowels in a string with a specified vowel"
   ]
  },
  {
   "cell_type": "code",
   "execution_count": 8,
   "metadata": {},
   "outputs": [],
   "source": [
    "def vow_replace(s,u):\n",
    "    v= ('a', 'e', 'i', 'o', 'u','A','E','I','O','U')\n",
    "    for i in range(len(s)):\n",
    "        if(s[i] in v):\n",
    "            s= s.replace(s[i],u)\n",
    "    return s"
   ]
  },
  {
   "cell_type": "code",
   "execution_count": 9,
   "metadata": {},
   "outputs": [
    {
     "name": "stdout",
     "output_type": "stream",
     "text": [
      "Enter String : stuffed jalApeno poppers\n",
      "Character : i\n",
      "stiffid jilipini pippirs\n"
     ]
    }
   ],
   "source": [
    "s=input(\"Enter String : \")\n",
    "c=input(\"Character : \")\n",
    "r = vow_replace(s,c)\n",
    "print(r)"
   ]
  },
  {
   "cell_type": "markdown",
   "metadata": {},
   "source": [
    "5. Create a function that takes a string as input and capitalizes a letter if its ASCII code is even and returns its lower case version if its ASCII code is odd."
   ]
  },
  {
   "cell_type": "code",
   "execution_count": 10,
   "metadata": {},
   "outputs": [],
   "source": [
    "def ascii_capitalize(s):\n",
    "    for i in s:\n",
    "        if ord(i)%2==0:\n",
    "            s=s.replace(i,i.upper())\n",
    "        else:\n",
    "            s=s.replace(i,i.lower())\n",
    "    return s"
   ]
  },
  {
   "cell_type": "code",
   "execution_count": 11,
   "metadata": {},
   "outputs": [
    {
     "name": "stdout",
     "output_type": "stream",
     "text": [
      "THE LITTLE MERMAID\n",
      "THe LiTTLe meRmaiD\n"
     ]
    }
   ],
   "source": [
    "s= input()\n",
    "r= ascii_capitalize(s)\n",
    "print(r)"
   ]
  },
  {
   "cell_type": "code",
   "execution_count": null,
   "metadata": {},
   "outputs": [],
   "source": []
  }
 ],
 "metadata": {
  "kernelspec": {
   "display_name": "Python 3",
   "language": "python",
   "name": "python3"
  },
  "language_info": {
   "codemirror_mode": {
    "name": "ipython",
    "version": 3
   },
   "file_extension": ".py",
   "mimetype": "text/x-python",
   "name": "python",
   "nbconvert_exporter": "python",
   "pygments_lexer": "ipython3",
   "version": "3.8.5"
  }
 },
 "nbformat": 4,
 "nbformat_minor": 4
}
